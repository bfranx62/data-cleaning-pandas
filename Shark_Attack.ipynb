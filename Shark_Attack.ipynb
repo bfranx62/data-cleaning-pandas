{
  "cells": [
    {
      "cell_type": "markdown",
      "metadata": {
        "id": "tESJLPfKcZHa"
      },
      "source": [
        "OBJECTIVES:\n",
        "\n",
        "\n",
        "\n",
        "1.   **Business Case: Touring Company wants to know during the month(s) of June-August, what country has the highest chance of an incident occurring?**\n",
        "2.   Implement at least FIVE data cleaning techniques (missing values, duplicates, formatting, etc)\n",
        "3. Once data is clean, we analyze and validate our hypothesis or answer our business case.\n",
        "4. For the project to be mark completed the following has to be checked off:\n",
        "\n",
        "*   A new repository with the name data-cleaning-pandas on your GitHub account.\n",
        "*   At least 1 Jupyter notebook is required.\n",
        "*   A README with the completed project documentation.\n",
        "*   Slideshow (7-10 slides)\n",
        "*   A working code that meets all technical requirements, built by you.\n",
        "\n",
        "\n"
      ]
    },
    {
      "cell_type": "code",
      "execution_count": 1,
      "metadata": {
        "id": "c-DYs9CccXH4"
      },
      "outputs": [],
      "source": [
        "import numpy as np"
      ]
    },
    {
      "cell_type": "code",
      "execution_count": 2,
      "metadata": {
        "id": "qKO3pLISNSay"
      },
      "outputs": [],
      "source": [
        "import pandas as pd"
      ]
    },
    {
      "cell_type": "code",
      "execution_count": 3,
      "metadata": {
        "id": "2cTanEProWLa"
      },
      "outputs": [],
      "source": [
        "import seaborn as sns"
      ]
    },
    {
      "cell_type": "code",
      "execution_count": 4,
      "metadata": {
        "colab": {
          "base_uri": "https://localhost:8080/",
          "height": 776
        },
        "id": "Iq0mSRHUPCa6",
        "outputId": "4ba8d22b-d769-4be5-d2a6-140392c0208a"
      },
      "outputs": [
        {
          "data": {
            "text/html": [
              "<div>\n",
              "<style scoped>\n",
              "    .dataframe tbody tr th:only-of-type {\n",
              "        vertical-align: middle;\n",
              "    }\n",
              "\n",
              "    .dataframe tbody tr th {\n",
              "        vertical-align: top;\n",
              "    }\n",
              "\n",
              "    .dataframe thead th {\n",
              "        text-align: right;\n",
              "    }\n",
              "</style>\n",
              "<table border=\"1\" class=\"dataframe\">\n",
              "  <thead>\n",
              "    <tr style=\"text-align: right;\">\n",
              "      <th></th>\n",
              "      <th>Date</th>\n",
              "      <th>Year</th>\n",
              "      <th>Type</th>\n",
              "      <th>Country</th>\n",
              "      <th>State</th>\n",
              "      <th>Location</th>\n",
              "      <th>Activity</th>\n",
              "      <th>Name</th>\n",
              "      <th>Sex</th>\n",
              "      <th>Age</th>\n",
              "      <th>...</th>\n",
              "      <th>Unnamed: 11</th>\n",
              "      <th>Time</th>\n",
              "      <th>Species</th>\n",
              "      <th>Source</th>\n",
              "      <th>pdf</th>\n",
              "      <th>href formula</th>\n",
              "      <th>href</th>\n",
              "      <th>Case Number</th>\n",
              "      <th>Case Number1</th>\n",
              "      <th>original order</th>\n",
              "    </tr>\n",
              "  </thead>\n",
              "  <tbody>\n",
              "    <tr>\n",
              "      <th>0</th>\n",
              "      <td>2000-05-09 00:00:00</td>\n",
              "      <td>2000</td>\n",
              "      <td>Invalid</td>\n",
              "      <td>AUSTRALIA</td>\n",
              "      <td>Victoria</td>\n",
              "      <td>Koonya Beach, Melbourne</td>\n",
              "      <td>NaN</td>\n",
              "      <td>Severed human foot washed ashore (in sneaker w...</td>\n",
              "      <td>NaN</td>\n",
              "      <td>NaN</td>\n",
              "      <td>...</td>\n",
              "      <td>NaN</td>\n",
              "      <td>NaN</td>\n",
              "      <td>Shark involvement prior to death was not confi...</td>\n",
              "      <td>T. Peake, GSAF</td>\n",
              "      <td>2000.05.09-foot.pdf</td>\n",
              "      <td>http://sharkattackfile.net/spreadsheets/pdf_di...</td>\n",
              "      <td>http://sharkattackfile.net/spreadsheets/pdf_di...</td>\n",
              "      <td>2000.05.09</td>\n",
              "      <td>2000.05.09</td>\n",
              "      <td>4272.0</td>\n",
              "    </tr>\n",
              "    <tr>\n",
              "      <th>1</th>\n",
              "      <td>2000-05-07 00:00:00</td>\n",
              "      <td>2000</td>\n",
              "      <td>Unprovoked</td>\n",
              "      <td>PAPUA NEW GUINEA</td>\n",
              "      <td>Madang Province</td>\n",
              "      <td>Long Island near Madang, about 500 km (310 mil...</td>\n",
              "      <td>Standing</td>\n",
              "      <td>Adam</td>\n",
              "      <td>M</td>\n",
              "      <td>NaN</td>\n",
              "      <td>...</td>\n",
              "      <td>N</td>\n",
              "      <td>NaN</td>\n",
              "      <td>NaN</td>\n",
              "      <td>Reuters; Papua New Guinea Post-Courier</td>\n",
              "      <td>2000.05.07.b-Adam.pdf</td>\n",
              "      <td>http://sharkattackfile.net/spreadsheets/pdf_di...</td>\n",
              "      <td>http://sharkattackfile.net/spreadsheets/pdf_di...</td>\n",
              "      <td>2000.05.07.b</td>\n",
              "      <td>2000.05.07.b</td>\n",
              "      <td>4271.0</td>\n",
              "    </tr>\n",
              "    <tr>\n",
              "      <th>2</th>\n",
              "      <td>2000-05-07 00:00:00</td>\n",
              "      <td>2000</td>\n",
              "      <td>Unprovoked</td>\n",
              "      <td>PAPUA NEW GUINEA</td>\n",
              "      <td>Madang Province</td>\n",
              "      <td>Long Island near Madang, about 500 km (310 mil...</td>\n",
              "      <td>Diving</td>\n",
              "      <td>male</td>\n",
              "      <td>M</td>\n",
              "      <td>NaN</td>\n",
              "      <td>...</td>\n",
              "      <td>Y</td>\n",
              "      <td>NaN</td>\n",
              "      <td>NaN</td>\n",
              "      <td>Reuters; Papua New Guinea Post-Courier</td>\n",
              "      <td>2000.05.07.a-diver.pdf</td>\n",
              "      <td>http://sharkattackfile.net/spreadsheets/pdf_di...</td>\n",
              "      <td>http://sharkattackfile.net/spreadsheets/pdf_di...</td>\n",
              "      <td>2000.05.07.a</td>\n",
              "      <td>2000.05.07.a</td>\n",
              "      <td>4270.0</td>\n",
              "    </tr>\n",
              "    <tr>\n",
              "      <th>3</th>\n",
              "      <td>2000-05-13 00:00:00</td>\n",
              "      <td>2000</td>\n",
              "      <td>Sea Disaster</td>\n",
              "      <td>NEW CALEDONIA</td>\n",
              "      <td>South Province</td>\n",
              "      <td>Mont Dore</td>\n",
              "      <td>Air Disaster - Piper aircraft crashed into the...</td>\n",
              "      <td>3 people</td>\n",
              "      <td>NaN</td>\n",
              "      <td>NaN</td>\n",
              "      <td>...</td>\n",
              "      <td>Y</td>\n",
              "      <td>NaN</td>\n",
              "      <td>Tiger sharks &amp; bull sharks (20 sharks in all)</td>\n",
              "      <td>W. Leander; Les Nouvelles Caledoniennes, 5/15/...</td>\n",
              "      <td>2000.05.13-aircraft.pdf</td>\n",
              "      <td>http://sharkattackfile.net/spreadsheets/pdf_di...</td>\n",
              "      <td>http://sharkattackfile.net/spreadsheets/pdf_di...</td>\n",
              "      <td>2000.05.13</td>\n",
              "      <td>2000.05.13</td>\n",
              "      <td>4273.0</td>\n",
              "    </tr>\n",
              "    <tr>\n",
              "      <th>4</th>\n",
              "      <td>2000-06-19 00:00:00</td>\n",
              "      <td>2000</td>\n",
              "      <td>Unprovoked</td>\n",
              "      <td>USA</td>\n",
              "      <td>Florida</td>\n",
              "      <td>Seminole Avenue, Ormond Beach, Volusia County</td>\n",
              "      <td>Standing</td>\n",
              "      <td>Jacob Alegood</td>\n",
              "      <td>M</td>\n",
              "      <td>NaN</td>\n",
              "      <td>...</td>\n",
              "      <td>N</td>\n",
              "      <td>07h50</td>\n",
              "      <td>NaN</td>\n",
              "      <td>S. Petersohn, GSAF; M. I. Johnson, Daytona Bea...</td>\n",
              "      <td>2000.06.19-Alegood.pdf</td>\n",
              "      <td>http://sharkattackfile.net/spreadsheets/pdf_di...</td>\n",
              "      <td>http://sharkattackfile.net/spreadsheets/pdf_di...</td>\n",
              "      <td>2000.06.19</td>\n",
              "      <td>2000.06.19</td>\n",
              "      <td>4280.0</td>\n",
              "    </tr>\n",
              "  </tbody>\n",
              "</table>\n",
              "<p>5 rows × 21 columns</p>\n",
              "</div>"
            ],
            "text/plain": [
              "                  Date  Year          Type           Country            State  \\\n",
              "0  2000-05-09 00:00:00  2000       Invalid         AUSTRALIA         Victoria   \n",
              "1  2000-05-07 00:00:00  2000    Unprovoked  PAPUA NEW GUINEA  Madang Province   \n",
              "2  2000-05-07 00:00:00  2000    Unprovoked  PAPUA NEW GUINEA  Madang Province   \n",
              "3  2000-05-13 00:00:00  2000  Sea Disaster     NEW CALEDONIA   South Province   \n",
              "4  2000-06-19 00:00:00  2000    Unprovoked               USA          Florida   \n",
              "\n",
              "                                            Location  \\\n",
              "0                            Koonya Beach, Melbourne   \n",
              "1  Long Island near Madang, about 500 km (310 mil...   \n",
              "2  Long Island near Madang, about 500 km (310 mil...   \n",
              "3                                          Mont Dore   \n",
              "4      Seminole Avenue, Ormond Beach, Volusia County   \n",
              "\n",
              "                                            Activity  \\\n",
              "0                                                NaN   \n",
              "1                                           Standing   \n",
              "2                                             Diving   \n",
              "3  Air Disaster - Piper aircraft crashed into the...   \n",
              "4                                           Standing   \n",
              "\n",
              "                                                Name  Sex  Age  ...  \\\n",
              "0  Severed human foot washed ashore (in sneaker w...  NaN  NaN  ...   \n",
              "1                                               Adam    M  NaN  ...   \n",
              "2                                               male    M  NaN  ...   \n",
              "3                                           3 people  NaN  NaN  ...   \n",
              "4                                      Jacob Alegood    M  NaN  ...   \n",
              "\n",
              "  Unnamed: 11   Time                                            Species  \\\n",
              "0         NaN    NaN  Shark involvement prior to death was not confi...   \n",
              "1           N    NaN                                                NaN   \n",
              "2           Y    NaN                                                NaN   \n",
              "3           Y    NaN      Tiger sharks & bull sharks (20 sharks in all)   \n",
              "4           N  07h50                                                NaN   \n",
              "\n",
              "                                              Source                      pdf  \\\n",
              "0                                     T. Peake, GSAF      2000.05.09-foot.pdf   \n",
              "1             Reuters; Papua New Guinea Post-Courier    2000.05.07.b-Adam.pdf   \n",
              "2             Reuters; Papua New Guinea Post-Courier   2000.05.07.a-diver.pdf   \n",
              "3  W. Leander; Les Nouvelles Caledoniennes, 5/15/...  2000.05.13-aircraft.pdf   \n",
              "4  S. Petersohn, GSAF; M. I. Johnson, Daytona Bea...   2000.06.19-Alegood.pdf   \n",
              "\n",
              "                                        href formula  \\\n",
              "0  http://sharkattackfile.net/spreadsheets/pdf_di...   \n",
              "1  http://sharkattackfile.net/spreadsheets/pdf_di...   \n",
              "2  http://sharkattackfile.net/spreadsheets/pdf_di...   \n",
              "3  http://sharkattackfile.net/spreadsheets/pdf_di...   \n",
              "4  http://sharkattackfile.net/spreadsheets/pdf_di...   \n",
              "\n",
              "                                                href   Case Number  \\\n",
              "0  http://sharkattackfile.net/spreadsheets/pdf_di...    2000.05.09   \n",
              "1  http://sharkattackfile.net/spreadsheets/pdf_di...  2000.05.07.b   \n",
              "2  http://sharkattackfile.net/spreadsheets/pdf_di...  2000.05.07.a   \n",
              "3  http://sharkattackfile.net/spreadsheets/pdf_di...    2000.05.13   \n",
              "4  http://sharkattackfile.net/spreadsheets/pdf_di...    2000.06.19   \n",
              "\n",
              "   Case Number1 original order  \n",
              "0    2000.05.09         4272.0  \n",
              "1  2000.05.07.b         4271.0  \n",
              "2  2000.05.07.a         4270.0  \n",
              "3    2000.05.13         4273.0  \n",
              "4    2000.06.19         4280.0  \n",
              "\n",
              "[5 rows x 21 columns]"
            ]
          },
          "execution_count": 4,
          "metadata": {},
          "output_type": "execute_result"
        }
      ],
      "source": [
        "# Read the csv file, save as df\n",
        "url=\"https://drive.google.com/uc?export=download&id=15sSsNwcH-k0p4TEj5KkqeItQhJYFLEna\"\n",
        "df = pd.read_excel(url)\n",
        "\n",
        "# Display the first few rows of the DataFrame\n",
        "df.head()"
      ]
    },
    {
      "cell_type": "code",
      "execution_count": 5,
      "metadata": {
        "colab": {
          "base_uri": "https://localhost:8080/"
        },
        "id": "2s9ox_YcsULs",
        "outputId": "cf710173-07f0-4049-a4c6-b52ca58a0a19"
      },
      "outputs": [
        {
          "data": {
            "text/plain": [
              "Index(['Date', 'Year', 'Type', 'Country', 'State', 'Location', 'Activity',\n",
              "       'Name', 'Sex', 'Age', 'Injury', 'Unnamed: 11', 'Time', 'Species',\n",
              "       'Source', 'pdf', 'href formula', 'href', 'Case Number', 'Case Number1',\n",
              "       'original order'],\n",
              "      dtype='object')"
            ]
          },
          "execution_count": 5,
          "metadata": {},
          "output_type": "execute_result"
        }
      ],
      "source": [
        "df.columns"
      ]
    },
    {
      "cell_type": "code",
      "execution_count": 6,
      "metadata": {
        "colab": {
          "base_uri": "https://localhost:8080/",
          "height": 498
        },
        "id": "s8hgOHvdQhgO",
        "outputId": "1fdcac7f-3b91-4c0a-896a-8aff322eed86"
      },
      "outputs": [
        {
          "data": {
            "text/html": [
              "<div>\n",
              "<style scoped>\n",
              "    .dataframe tbody tr th:only-of-type {\n",
              "        vertical-align: middle;\n",
              "    }\n",
              "\n",
              "    .dataframe tbody tr th {\n",
              "        vertical-align: top;\n",
              "    }\n",
              "\n",
              "    .dataframe thead th {\n",
              "        text-align: right;\n",
              "    }\n",
              "</style>\n",
              "<table border=\"1\" class=\"dataframe\">\n",
              "  <thead>\n",
              "    <tr style=\"text-align: right;\">\n",
              "      <th></th>\n",
              "      <th>Date</th>\n",
              "      <th>Year</th>\n",
              "      <th>Type</th>\n",
              "      <th>Country</th>\n",
              "      <th>State</th>\n",
              "      <th>Location</th>\n",
              "      <th>Activity</th>\n",
              "      <th>Name</th>\n",
              "      <th>Sex</th>\n",
              "      <th>Age</th>\n",
              "      <th>...</th>\n",
              "      <th>Unnamed: 11</th>\n",
              "      <th>Time</th>\n",
              "      <th>Species</th>\n",
              "      <th>Source</th>\n",
              "      <th>pdf</th>\n",
              "      <th>href formula</th>\n",
              "      <th>href</th>\n",
              "      <th>Case Number</th>\n",
              "      <th>Case Number1</th>\n",
              "      <th>original order</th>\n",
              "    </tr>\n",
              "  </thead>\n",
              "  <tbody>\n",
              "    <tr>\n",
              "      <th>1043</th>\n",
              "      <td>2023-05-11 00:00:00</td>\n",
              "      <td>2023</td>\n",
              "      <td>Unprovoked</td>\n",
              "      <td>USA</td>\n",
              "      <td>Florida</td>\n",
              "      <td>Fort Pierce, St. Lucie County</td>\n",
              "      <td>Sitting</td>\n",
              "      <td>Ella Reed</td>\n",
              "      <td>F</td>\n",
              "      <td>13</td>\n",
              "      <td>...</td>\n",
              "      <td>N</td>\n",
              "      <td>Afternoon</td>\n",
              "      <td>Bull shark, 4'</td>\n",
              "      <td>.A. Curriie, GSAF</td>\n",
              "      <td>NaN</td>\n",
              "      <td>NaN</td>\n",
              "      <td>NaN</td>\n",
              "      <td>NaN</td>\n",
              "      <td>NaN</td>\n",
              "      <td>NaN</td>\n",
              "    </tr>\n",
              "    <tr>\n",
              "      <th>1044</th>\n",
              "      <td>2023-05-11 00:00:00</td>\n",
              "      <td>2023</td>\n",
              "      <td>Provoked</td>\n",
              "      <td>USA</td>\n",
              "      <td>Hawaii</td>\n",
              "      <td>Kualoa, Oahu</td>\n",
              "      <td>Kayak fishing</td>\n",
              "      <td>Scott Haraguchi</td>\n",
              "      <td>M</td>\n",
              "      <td>NaN</td>\n",
              "      <td>...</td>\n",
              "      <td>N</td>\n",
              "      <td>NaN</td>\n",
              "      <td>Tiger shark</td>\n",
              "      <td>J.Marcharnd, GSAF</td>\n",
              "      <td>NaN</td>\n",
              "      <td>NaN</td>\n",
              "      <td>NaN</td>\n",
              "      <td>NaN</td>\n",
              "      <td>NaN</td>\n",
              "      <td>NaN</td>\n",
              "    </tr>\n",
              "    <tr>\n",
              "      <th>1045</th>\n",
              "      <td>2023-05-14 00:00:00</td>\n",
              "      <td>2023</td>\n",
              "      <td>Unprovoked</td>\n",
              "      <td>USA</td>\n",
              "      <td>South Carolina</td>\n",
              "      <td>Isle of Palms, Charleston County</td>\n",
              "      <td>Swimming</td>\n",
              "      <td>Claire Gugerty</td>\n",
              "      <td>F</td>\n",
              "      <td>24</td>\n",
              "      <td>...</td>\n",
              "      <td>N</td>\n",
              "      <td>17h00</td>\n",
              "      <td>NaN</td>\n",
              "      <td>The Island Eye, 5/15/2023</td>\n",
              "      <td>NaN</td>\n",
              "      <td>NaN</td>\n",
              "      <td>NaN</td>\n",
              "      <td>NaN</td>\n",
              "      <td>NaN</td>\n",
              "      <td>NaN</td>\n",
              "    </tr>\n",
              "    <tr>\n",
              "      <th>1046</th>\n",
              "      <td>2023-05-18 00:00:00</td>\n",
              "      <td>2023</td>\n",
              "      <td>Unprovoked</td>\n",
              "      <td>USA</td>\n",
              "      <td>Florida</td>\n",
              "      <td>Marathon, Monroe County</td>\n",
              "      <td>Spearfishing</td>\n",
              "      <td>Kevin Blanco</td>\n",
              "      <td>M</td>\n",
              "      <td>20</td>\n",
              "      <td>...</td>\n",
              "      <td>N</td>\n",
              "      <td>15h00</td>\n",
              "      <td>NaN</td>\n",
              "      <td>J. Marchand, GSAF</td>\n",
              "      <td>NaN</td>\n",
              "      <td>NaN</td>\n",
              "      <td>NaN</td>\n",
              "      <td>NaN</td>\n",
              "      <td>NaN</td>\n",
              "      <td>NaN</td>\n",
              "    </tr>\n",
              "    <tr>\n",
              "      <th>1047</th>\n",
              "      <td>2023-05-09 00:00:00</td>\n",
              "      <td>2023</td>\n",
              "      <td>Provoked</td>\n",
              "      <td>CUBA</td>\n",
              "      <td>Mayabeque</td>\n",
              "      <td>Puerto Escondido</td>\n",
              "      <td>Spearfishing</td>\n",
              "      <td>Maro Alejandro Díaz Jiménez</td>\n",
              "      <td>M</td>\n",
              "      <td>NaN</td>\n",
              "      <td>...</td>\n",
              "      <td>Y</td>\n",
              "      <td>NaN</td>\n",
              "      <td>Bull shark</td>\n",
              "      <td>Ciber Cuba, 5/10/.2023</td>\n",
              "      <td>NaN</td>\n",
              "      <td>NaN</td>\n",
              "      <td>NaN</td>\n",
              "      <td>NaN</td>\n",
              "      <td>NaN</td>\n",
              "      <td>NaN</td>\n",
              "    </tr>\n",
              "  </tbody>\n",
              "</table>\n",
              "<p>5 rows × 21 columns</p>\n",
              "</div>"
            ],
            "text/plain": [
              "                     Date  Year        Type Country           State  \\\n",
              "1043  2023-05-11 00:00:00  2023  Unprovoked     USA         Florida   \n",
              "1044  2023-05-11 00:00:00  2023    Provoked     USA          Hawaii   \n",
              "1045  2023-05-14 00:00:00  2023  Unprovoked     USA  South Carolina   \n",
              "1046  2023-05-18 00:00:00  2023  Unprovoked     USA         Florida   \n",
              "1047  2023-05-09 00:00:00  2023    Provoked    CUBA       Mayabeque   \n",
              "\n",
              "                              Location       Activity  \\\n",
              "1043     Fort Pierce, St. Lucie County        Sitting   \n",
              "1044                      Kualoa, Oahu  Kayak fishing   \n",
              "1045  Isle of Palms, Charleston County       Swimming   \n",
              "1046           Marathon, Monroe County   Spearfishing   \n",
              "1047                  Puerto Escondido   Spearfishing   \n",
              "\n",
              "                             Name Sex  Age  ... Unnamed: 11       Time  \\\n",
              "1043                    Ella Reed   F   13  ...           N  Afternoon   \n",
              "1044              Scott Haraguchi   M  NaN  ...           N        NaN   \n",
              "1045               Claire Gugerty   F   24  ...           N      17h00   \n",
              "1046                 Kevin Blanco   M   20  ...           N      15h00   \n",
              "1047  Maro Alejandro Díaz Jiménez   M  NaN  ...           Y        NaN   \n",
              "\n",
              "             Species                     Source  pdf href formula href  \\\n",
              "1043  Bull shark, 4'          .A. Curriie, GSAF  NaN          NaN  NaN   \n",
              "1044     Tiger shark          J.Marcharnd, GSAF  NaN          NaN  NaN   \n",
              "1045             NaN  The Island Eye, 5/15/2023  NaN          NaN  NaN   \n",
              "1046             NaN          J. Marchand, GSAF  NaN          NaN  NaN   \n",
              "1047      Bull shark     Ciber Cuba, 5/10/.2023  NaN          NaN  NaN   \n",
              "\n",
              "     Case Number Case Number1 original order  \n",
              "1043         NaN          NaN            NaN  \n",
              "1044         NaN          NaN            NaN  \n",
              "1045         NaN          NaN            NaN  \n",
              "1046         NaN          NaN            NaN  \n",
              "1047         NaN          NaN            NaN  \n",
              "\n",
              "[5 rows x 21 columns]"
            ]
          },
          "execution_count": 6,
          "metadata": {},
          "output_type": "execute_result"
        }
      ],
      "source": [
        "# Display last few rows of dataframe\n",
        "df.tail()"
      ]
    },
    {
      "cell_type": "code",
      "execution_count": 7,
      "metadata": {
        "colab": {
          "base_uri": "https://localhost:8080/"
        },
        "id": "25oZLPzAhnP5",
        "outputId": "f74c5182-0877-4f74-afa3-360cc601aa2a"
      },
      "outputs": [
        {
          "name": "stdout",
          "output_type": "stream",
          "text": [
            "['Date', 'Year', 'Type', 'Country', 'State', 'Location', 'Activity', 'Name', 'Sex', 'Age', 'Injury', 'Unnamed: 11', 'Time', 'Species', 'Source', 'pdf', 'href formula', 'href', 'Case Number', 'Case Number1', 'original order']\n",
            "Modified columns: Index(['date', 'year', 'type', 'country', 'state', 'location', 'activity',\n",
            "       'sex', 'age', 'injury', 'fatal'],\n",
            "      dtype='object')\n"
          ]
        }
      ],
      "source": [
        "# Display column names to identify which columns are not needed\n",
        "print(list(df.columns))\n",
        "\n",
        "# Find the index of 'pdf' column\n",
        "source_index = df.columns.get_loc('pdf')\n",
        "\n",
        "# Create a list of column names to drop (from 'pdf' column onward)\n",
        "columns_to_drop = df.columns[source_index:]\n",
        "\n",
        "# drop source, time, name, species because they are not pertinent to our research question.\n",
        "other_columns_to_drop = ['Name','Time','Species','Source']\n",
        "\n",
        "# Drop the remaining useless columns\n",
        "df.drop(columns=columns_to_drop, inplace=True)\n",
        "df.drop(columns=other_columns_to_drop, inplace = True)\n",
        "\n",
        "# Clean up remaining column names\n",
        "def clean_column_names(column_names):\n",
        "    return column_names.str.lower().str.replace(' ', '_')\n",
        "\n",
        "df.columns = clean_column_names(df.columns)\n",
        "\n",
        "#replace the null/incorrect column name\n",
        "df.rename(columns={'unnamed:_11': 'fatal'}, inplace=True)\n",
        "df.rename(columns={'species_': 'species'}, inplace=True)\n",
        "\n",
        "# Print the modified DataFrame columns\n",
        "print(\"Modified columns:\", df.columns)"
      ]
    },
    {
      "cell_type": "code",
      "execution_count": 8,
      "metadata": {
        "colab": {
          "base_uri": "https://localhost:8080/",
          "height": 597
        },
        "id": "t1Z2ZOainwt3",
        "outputId": "7e1eacb5-63ac-474c-a239-b11522d57895"
      },
      "outputs": [
        {
          "data": {
            "text/html": [
              "<div>\n",
              "<style scoped>\n",
              "    .dataframe tbody tr th:only-of-type {\n",
              "        vertical-align: middle;\n",
              "    }\n",
              "\n",
              "    .dataframe tbody tr th {\n",
              "        vertical-align: top;\n",
              "    }\n",
              "\n",
              "    .dataframe thead th {\n",
              "        text-align: right;\n",
              "    }\n",
              "</style>\n",
              "<table border=\"1\" class=\"dataframe\">\n",
              "  <thead>\n",
              "    <tr style=\"text-align: right;\">\n",
              "      <th></th>\n",
              "      <th>date</th>\n",
              "      <th>year</th>\n",
              "      <th>type</th>\n",
              "      <th>country</th>\n",
              "      <th>state</th>\n",
              "      <th>location</th>\n",
              "      <th>activity</th>\n",
              "      <th>sex</th>\n",
              "      <th>age</th>\n",
              "      <th>injury</th>\n",
              "      <th>fatal</th>\n",
              "    </tr>\n",
              "  </thead>\n",
              "  <tbody>\n",
              "    <tr>\n",
              "      <th>0</th>\n",
              "      <td>2000-05-09 00:00:00</td>\n",
              "      <td>2000</td>\n",
              "      <td>Invalid</td>\n",
              "      <td>AUSTRALIA</td>\n",
              "      <td>Victoria</td>\n",
              "      <td>Koonya Beach, Melbourne</td>\n",
              "      <td>NaN</td>\n",
              "      <td>NaN</td>\n",
              "      <td>NaN</td>\n",
              "      <td>Probable drowning</td>\n",
              "      <td>NaN</td>\n",
              "    </tr>\n",
              "    <tr>\n",
              "      <th>1</th>\n",
              "      <td>2000-05-07 00:00:00</td>\n",
              "      <td>2000</td>\n",
              "      <td>Unprovoked</td>\n",
              "      <td>PAPUA NEW GUINEA</td>\n",
              "      <td>Madang Province</td>\n",
              "      <td>Long Island near Madang, about 500 km (310 mil...</td>\n",
              "      <td>Standing</td>\n",
              "      <td>M</td>\n",
              "      <td>NaN</td>\n",
              "      <td>Left leg &amp; ankle bitten</td>\n",
              "      <td>N</td>\n",
              "    </tr>\n",
              "    <tr>\n",
              "      <th>2</th>\n",
              "      <td>2000-05-07 00:00:00</td>\n",
              "      <td>2000</td>\n",
              "      <td>Unprovoked</td>\n",
              "      <td>PAPUA NEW GUINEA</td>\n",
              "      <td>Madang Province</td>\n",
              "      <td>Long Island near Madang, about 500 km (310 mil...</td>\n",
              "      <td>Diving</td>\n",
              "      <td>M</td>\n",
              "      <td>NaN</td>\n",
              "      <td>FATAL</td>\n",
              "      <td>Y</td>\n",
              "    </tr>\n",
              "    <tr>\n",
              "      <th>3</th>\n",
              "      <td>2000-05-13 00:00:00</td>\n",
              "      <td>2000</td>\n",
              "      <td>Sea Disaster</td>\n",
              "      <td>NEW CALEDONIA</td>\n",
              "      <td>South Province</td>\n",
              "      <td>Mont Dore</td>\n",
              "      <td>Air Disaster - Piper aircraft crashed into the...</td>\n",
              "      <td>NaN</td>\n",
              "      <td>NaN</td>\n",
              "      <td>Sharks prevented recovery of remains</td>\n",
              "      <td>Y</td>\n",
              "    </tr>\n",
              "    <tr>\n",
              "      <th>4</th>\n",
              "      <td>2000-06-19 00:00:00</td>\n",
              "      <td>2000</td>\n",
              "      <td>Unprovoked</td>\n",
              "      <td>USA</td>\n",
              "      <td>Florida</td>\n",
              "      <td>Seminole Avenue, Ormond Beach, Volusia County</td>\n",
              "      <td>Standing</td>\n",
              "      <td>M</td>\n",
              "      <td>NaN</td>\n",
              "      <td>Right ankle lacerated</td>\n",
              "      <td>N</td>\n",
              "    </tr>\n",
              "    <tr>\n",
              "      <th>...</th>\n",
              "      <td>...</td>\n",
              "      <td>...</td>\n",
              "      <td>...</td>\n",
              "      <td>...</td>\n",
              "      <td>...</td>\n",
              "      <td>...</td>\n",
              "      <td>...</td>\n",
              "      <td>...</td>\n",
              "      <td>...</td>\n",
              "      <td>...</td>\n",
              "      <td>...</td>\n",
              "    </tr>\n",
              "    <tr>\n",
              "      <th>1043</th>\n",
              "      <td>2023-05-11 00:00:00</td>\n",
              "      <td>2023</td>\n",
              "      <td>Unprovoked</td>\n",
              "      <td>USA</td>\n",
              "      <td>Florida</td>\n",
              "      <td>Fort Pierce, St. Lucie County</td>\n",
              "      <td>Sitting</td>\n",
              "      <td>F</td>\n",
              "      <td>13</td>\n",
              "      <td>Multiple bites</td>\n",
              "      <td>N</td>\n",
              "    </tr>\n",
              "    <tr>\n",
              "      <th>1044</th>\n",
              "      <td>2023-05-11 00:00:00</td>\n",
              "      <td>2023</td>\n",
              "      <td>Provoked</td>\n",
              "      <td>USA</td>\n",
              "      <td>Hawaii</td>\n",
              "      <td>Kualoa, Oahu</td>\n",
              "      <td>Kayak fishing</td>\n",
              "      <td>M</td>\n",
              "      <td>NaN</td>\n",
              "      <td>Shark bit kayak, no inury to occupant</td>\n",
              "      <td>N</td>\n",
              "    </tr>\n",
              "    <tr>\n",
              "      <th>1045</th>\n",
              "      <td>2023-05-14 00:00:00</td>\n",
              "      <td>2023</td>\n",
              "      <td>Unprovoked</td>\n",
              "      <td>USA</td>\n",
              "      <td>South Carolina</td>\n",
              "      <td>Isle of Palms, Charleston County</td>\n",
              "      <td>Swimming</td>\n",
              "      <td>F</td>\n",
              "      <td>24</td>\n",
              "      <td>Minor inuries to right knee</td>\n",
              "      <td>N</td>\n",
              "    </tr>\n",
              "    <tr>\n",
              "      <th>1046</th>\n",
              "      <td>2023-05-18 00:00:00</td>\n",
              "      <td>2023</td>\n",
              "      <td>Unprovoked</td>\n",
              "      <td>USA</td>\n",
              "      <td>Florida</td>\n",
              "      <td>Marathon, Monroe County</td>\n",
              "      <td>Spearfishing</td>\n",
              "      <td>M</td>\n",
              "      <td>20</td>\n",
              "      <td>NaN</td>\n",
              "      <td>N</td>\n",
              "    </tr>\n",
              "    <tr>\n",
              "      <th>1047</th>\n",
              "      <td>2023-05-09 00:00:00</td>\n",
              "      <td>2023</td>\n",
              "      <td>Provoked</td>\n",
              "      <td>CUBA</td>\n",
              "      <td>Mayabeque</td>\n",
              "      <td>Puerto Escondido</td>\n",
              "      <td>Spearfishing</td>\n",
              "      <td>M</td>\n",
              "      <td>NaN</td>\n",
              "      <td>FATAL</td>\n",
              "      <td>Y</td>\n",
              "    </tr>\n",
              "  </tbody>\n",
              "</table>\n",
              "<p>1048 rows × 11 columns</p>\n",
              "</div>"
            ],
            "text/plain": [
              "                     date  year          type           country  \\\n",
              "0     2000-05-09 00:00:00  2000       Invalid         AUSTRALIA   \n",
              "1     2000-05-07 00:00:00  2000    Unprovoked  PAPUA NEW GUINEA   \n",
              "2     2000-05-07 00:00:00  2000    Unprovoked  PAPUA NEW GUINEA   \n",
              "3     2000-05-13 00:00:00  2000  Sea Disaster     NEW CALEDONIA   \n",
              "4     2000-06-19 00:00:00  2000    Unprovoked               USA   \n",
              "...                   ...   ...           ...               ...   \n",
              "1043  2023-05-11 00:00:00  2023    Unprovoked               USA   \n",
              "1044  2023-05-11 00:00:00  2023      Provoked               USA   \n",
              "1045  2023-05-14 00:00:00  2023    Unprovoked               USA   \n",
              "1046  2023-05-18 00:00:00  2023    Unprovoked               USA   \n",
              "1047  2023-05-09 00:00:00  2023      Provoked              CUBA   \n",
              "\n",
              "                state                                           location  \\\n",
              "0            Victoria                            Koonya Beach, Melbourne   \n",
              "1     Madang Province  Long Island near Madang, about 500 km (310 mil...   \n",
              "2     Madang Province  Long Island near Madang, about 500 km (310 mil...   \n",
              "3      South Province                                          Mont Dore   \n",
              "4             Florida      Seminole Avenue, Ormond Beach, Volusia County   \n",
              "...               ...                                                ...   \n",
              "1043          Florida                      Fort Pierce, St. Lucie County   \n",
              "1044           Hawaii                                       Kualoa, Oahu   \n",
              "1045   South Carolina                   Isle of Palms, Charleston County   \n",
              "1046          Florida                            Marathon, Monroe County   \n",
              "1047        Mayabeque                                   Puerto Escondido   \n",
              "\n",
              "                                               activity  sex  age  \\\n",
              "0                                                   NaN  NaN  NaN   \n",
              "1                                              Standing    M  NaN   \n",
              "2                                                Diving    M  NaN   \n",
              "3     Air Disaster - Piper aircraft crashed into the...  NaN  NaN   \n",
              "4                                              Standing    M  NaN   \n",
              "...                                                 ...  ...  ...   \n",
              "1043                                            Sitting    F   13   \n",
              "1044                                      Kayak fishing    M  NaN   \n",
              "1045                                           Swimming    F   24   \n",
              "1046                                       Spearfishing    M   20   \n",
              "1047                                       Spearfishing    M  NaN   \n",
              "\n",
              "                                     injury fatal  \n",
              "0                         Probable drowning   NaN  \n",
              "1                   Left leg & ankle bitten     N  \n",
              "2                                     FATAL     Y  \n",
              "3      Sharks prevented recovery of remains     Y  \n",
              "4                     Right ankle lacerated     N  \n",
              "...                                     ...   ...  \n",
              "1043                         Multiple bites     N  \n",
              "1044  Shark bit kayak, no inury to occupant     N  \n",
              "1045            Minor inuries to right knee     N  \n",
              "1046                                    NaN     N  \n",
              "1047                                  FATAL     Y  \n",
              "\n",
              "[1048 rows x 11 columns]"
            ]
          },
          "execution_count": 8,
          "metadata": {},
          "output_type": "execute_result"
        }
      ],
      "source": [
        "df"
      ]
    },
    {
      "cell_type": "code",
      "execution_count": 9,
      "metadata": {
        "colab": {
          "base_uri": "https://localhost:8080/"
        },
        "id": "UCrzicU75KcC",
        "outputId": "1cea9a24-a6b7-44d4-f01d-e477958c23b3"
      },
      "outputs": [
        {
          "name": "stdout",
          "output_type": "stream",
          "text": [
            "Invalid\n",
            "Unprovoked\n",
            "Sea Disaster\n",
            "Watercraft\n",
            "Provoked\n",
            "nan\n",
            "Questionable\n",
            "Under investigation\n",
            "Unconfirmed\n",
            "Unverified\n"
          ]
        }
      ],
      "source": [
        "# Check the original values in column 'Type'\n",
        "unique_type = df['type'].unique()\n",
        "for activity in unique_type:\n",
        "    print(activity)"
      ]
    },
    {
      "cell_type": "code",
      "execution_count": 10,
      "metadata": {
        "colab": {
          "base_uri": "https://localhost:8080/"
        },
        "id": "62taqqye0N6a",
        "outputId": "12dc3976-9b76-40e2-e023-d8e34a397b34"
      },
      "outputs": [
        {
          "name": "stdout",
          "output_type": "stream",
          "text": [
            "unconfirmed\n",
            "unprovoked\n",
            "watercraft\n",
            "provoked\n",
            "nan\n",
            "questionable\n"
          ]
        }
      ],
      "source": [
        "# Deleting the spaces inside strings of values and changing the values to lowercase\n",
        "df['type'] = df['type'].str.strip()\n",
        "df['type'] = df['type'].str.lower()\n",
        "\n",
        "# Consolidate types of activity\n",
        "df['type'].replace({\n",
        "    'unverified': 'unconfirmed',\n",
        "    'invalid': 'unconfirmed',\n",
        "    'under investigation': 'unconfirmed',\n",
        "    '?': 'unconfirmed',\n",
        "    'boating Incident': 'watercraft',\n",
        "    'sea disaster': 'watercraft',\n",
        "    'boat': 'watercraft'\n",
        "}, inplace = True)\n",
        "\n",
        "# Print new, consolidated activity types\n",
        "unique_type = df['type'].unique()\n",
        "for activity in unique_type:\n",
        "    print(activity)"
      ]
    },
    {
      "cell_type": "code",
      "execution_count": 11,
      "metadata": {
        "id": "WJyf97mk4OaF"
      },
      "outputs": [],
      "source": [
        "# Change fatal from float to string for lambda function\n",
        "df['fatal'] = df['fatal'].astype(str)\n",
        "\n",
        "# Replaced other naming conventions to have uniformed column; only Yes, No & Unknown. Nans not dropped, left as is.\n",
        "df.fatal = df['fatal'].apply(lambda x: 'Yes' if x in ['Y', 'M', 'F', '2017', 'Y x 2', 'y'] else 'No' if x in ['N', ' N', 'n', 'Nq', 'N ','WESH, 717,2022','nan'] else 'Unknown' if x in ['UNKNOWN'] else x)"
      ]
    },
    {
      "cell_type": "code",
      "execution_count": 12,
      "metadata": {
        "colab": {
          "base_uri": "https://localhost:8080/",
          "height": 89
        },
        "id": "h-cWzsRG7k0M",
        "outputId": "38325662-7ef2-447c-c3f4-ae4707dee6db"
      },
      "outputs": [
        {
          "data": {
            "text/html": [
              "<div>\n",
              "<style scoped>\n",
              "    .dataframe tbody tr th:only-of-type {\n",
              "        vertical-align: middle;\n",
              "    }\n",
              "\n",
              "    .dataframe tbody tr th {\n",
              "        vertical-align: top;\n",
              "    }\n",
              "\n",
              "    .dataframe thead th {\n",
              "        text-align: right;\n",
              "    }\n",
              "</style>\n",
              "<table border=\"1\" class=\"dataframe\">\n",
              "  <thead>\n",
              "    <tr style=\"text-align: right;\">\n",
              "      <th></th>\n",
              "      <th>date</th>\n",
              "      <th>year</th>\n",
              "      <th>type</th>\n",
              "      <th>country</th>\n",
              "      <th>state</th>\n",
              "      <th>location</th>\n",
              "      <th>activity</th>\n",
              "      <th>sex</th>\n",
              "      <th>age</th>\n",
              "      <th>injury</th>\n",
              "      <th>fatal</th>\n",
              "    </tr>\n",
              "  </thead>\n",
              "  <tbody>\n",
              "    <tr>\n",
              "      <th>631</th>\n",
              "      <td>2014-08-01 00:00:00</td>\n",
              "      <td>2014</td>\n",
              "      <td>unconfirmed</td>\n",
              "      <td>NaN</td>\n",
              "      <td>NaN</td>\n",
              "      <td>NaN</td>\n",
              "      <td>Sea disaster</td>\n",
              "      <td>M</td>\n",
              "      <td>NaN</td>\n",
              "      <td>Shark involvement prior to death not confirmed</td>\n",
              "      <td>No</td>\n",
              "    </tr>\n",
              "  </tbody>\n",
              "</table>\n",
              "</div>"
            ],
            "text/plain": [
              "                    date  year         type country state location  \\\n",
              "631  2014-08-01 00:00:00  2014  unconfirmed     NaN   NaN      NaN   \n",
              "\n",
              "         activity sex  age                                          injury  \\\n",
              "631  Sea disaster   M  NaN  Shark involvement prior to death not confirmed   \n",
              "\n",
              "    fatal  \n",
              "631    No  "
            ]
          },
          "execution_count": 12,
          "metadata": {},
          "output_type": "execute_result"
        }
      ],
      "source": [
        "# Strips extra spaces out of country names and converts all names to be only UPPER CASE\n",
        "df['country'] = df['country'].str.upper()\n",
        "\n",
        "# Strips questions marks out of country names\n",
        "df['country'] = df['country'].str.strip(\"?\")\n",
        "\n",
        "# Creates a subset of the dataframe that only contains rows where the country of incidence in nan\n",
        "# Viewing that helped me to identify all the rows below where another row contained sufficient country information.\n",
        "country_nans = df[df['country'].isnull()]\n",
        "\n",
        "# Display all rows with nan values in country column\n",
        "country_nans"
      ]
    },
    {
      "cell_type": "code",
      "execution_count": 13,
      "metadata": {
        "id": "NREt5W1V8w2L"
      },
      "outputs": [],
      "source": [
        "# Changes nans in 'country' column to UKNOWN to facilitate removal.\n",
        "df['country'] = df['country'].fillna('UNKNOWN')"
      ]
    },
    {
      "cell_type": "code",
      "execution_count": 14,
      "metadata": {
        "colab": {
          "base_uri": "https://localhost:8080/"
        },
        "id": "3YYvKjCu8kEP",
        "outputId": "fb3f76dd-adb2-4d1d-aae8-7f1bb6f323b5"
      },
      "outputs": [
        {
          "data": {
            "text/plain": [
              "array(['AUSTRALIA', 'PAPUA NEW GUINEA', 'NEW CALEDONIA', 'USA',\n",
              "       'NEW ZEALAND', 'TANZANIA', 'SOUTH AFRICA', 'TONGA', 'THAILAND',\n",
              "       'BAHAMAS', 'ITALY', 'MEXICO', 'FIJI', 'PHILIPPINES', 'MADAGASCAR',\n",
              "       'BRAZIL', 'COSTA RICA', 'INDONESIA', 'UNITED KINGDOM',\n",
              "       'FRENCH POLYNESIA', 'EGYPT', 'RUSSIA', 'JAPAN', 'SEYCHELLES',\n",
              "       'LIBERIA', 'CHINA', 'SOUTH KOREA', 'VANUATU', 'SPAIN', 'REUNION',\n",
              "       'BELIZE', 'NORWAY', 'SENEGAL', 'TURKS & CAICOS', 'ENGLAND',\n",
              "       'SCOTLAND', 'PANAMA', 'KENYA', 'VIETNAM', 'TAIWAN', 'GUAM',\n",
              "       'MALTA', 'COLUMBIA', 'MALAYSIA', 'UNITED ARAB EMIRATES (UAE)',\n",
              "       'CANADA', 'CROATIA', 'TRINIDAD & TOBAGO', 'FRANCE', 'DIEGO GARCIA',\n",
              "       'JAMAICA', 'ECUADOR', 'PALESTINIAN TERRITORIES', 'ST. MARTIN',\n",
              "       'PUERTO RICO', 'COMOROS', 'UNITED ARAB EMIRATES', 'REUNION ISLAND',\n",
              "       'COLOMBIA', 'JORDAN', 'SAMOA', 'PORTUGAL', 'TURKS AND CAICOS',\n",
              "       'CUBA'], dtype=object)"
            ]
          },
          "execution_count": 14,
          "metadata": {},
          "output_type": "execute_result"
        }
      ],
      "source": [
        "# Removing from entire dataframe all rows where value in 'country' contains BAY, COAST, GULF, OCEAN, SEA, or UNKNOWN\n",
        "# Doing this because we are only interested in information about countries - our company will not be helping tourists vacation on the high seas.\n",
        "\n",
        "# Creates a list of strings to check and remove.\n",
        "strings_to_check = ['BAY','COAST','GULF','OCEAN','SEA','UNKNOWN']\n",
        "\n",
        "# Creates object 'mask' that will be used to filter out bodies of water.\n",
        "mask = df['country'].str.contains('|'.join(strings_to_check), case=False)\n",
        "\n",
        "# Saves dataframe with the negative of the 'mask' object\n",
        "df = df[~mask]\n",
        "\n",
        "# Show unique values of 'country' column to show there are no water bodies included\n",
        "df['country'].unique()"
      ]
    },
    {
      "cell_type": "code",
      "execution_count": 15,
      "metadata": {
        "colab": {
          "base_uri": "https://localhost:8080/",
          "height": 206
        },
        "id": "N1dnuP6Y9S7D",
        "outputId": "9eaac0e8-b0d2-4b42-f19b-5ac4828e034f"
      },
      "outputs": [
        {
          "data": {
            "text/html": [
              "<div>\n",
              "<style scoped>\n",
              "    .dataframe tbody tr th:only-of-type {\n",
              "        vertical-align: middle;\n",
              "    }\n",
              "\n",
              "    .dataframe tbody tr th {\n",
              "        vertical-align: top;\n",
              "    }\n",
              "\n",
              "    .dataframe thead th {\n",
              "        text-align: right;\n",
              "    }\n",
              "</style>\n",
              "<table border=\"1\" class=\"dataframe\">\n",
              "  <thead>\n",
              "    <tr style=\"text-align: right;\">\n",
              "      <th></th>\n",
              "      <th>date</th>\n",
              "      <th>year</th>\n",
              "      <th>type</th>\n",
              "      <th>country</th>\n",
              "      <th>state</th>\n",
              "      <th>location</th>\n",
              "      <th>activity</th>\n",
              "      <th>sex</th>\n",
              "      <th>age</th>\n",
              "      <th>injury</th>\n",
              "      <th>fatal</th>\n",
              "    </tr>\n",
              "  </thead>\n",
              "  <tbody>\n",
              "    <tr>\n",
              "      <th>1043</th>\n",
              "      <td>2023-05-11 00:00:00</td>\n",
              "      <td>2023</td>\n",
              "      <td>unprovoked</td>\n",
              "      <td>USA</td>\n",
              "      <td>Florida</td>\n",
              "      <td>Fort Pierce, St. Lucie County</td>\n",
              "      <td>Sitting</td>\n",
              "      <td>F</td>\n",
              "      <td>13</td>\n",
              "      <td>Multiple bites</td>\n",
              "      <td>No</td>\n",
              "    </tr>\n",
              "    <tr>\n",
              "      <th>1044</th>\n",
              "      <td>2023-05-11 00:00:00</td>\n",
              "      <td>2023</td>\n",
              "      <td>provoked</td>\n",
              "      <td>USA</td>\n",
              "      <td>Hawaii</td>\n",
              "      <td>Kualoa, Oahu</td>\n",
              "      <td>Kayak fishing</td>\n",
              "      <td>M</td>\n",
              "      <td>NaN</td>\n",
              "      <td>Shark bit kayak, no inury to occupant</td>\n",
              "      <td>No</td>\n",
              "    </tr>\n",
              "    <tr>\n",
              "      <th>1045</th>\n",
              "      <td>2023-05-14 00:00:00</td>\n",
              "      <td>2023</td>\n",
              "      <td>unprovoked</td>\n",
              "      <td>USA</td>\n",
              "      <td>South Carolina</td>\n",
              "      <td>Isle of Palms, Charleston County</td>\n",
              "      <td>Swimming</td>\n",
              "      <td>F</td>\n",
              "      <td>24</td>\n",
              "      <td>Minor inuries to right knee</td>\n",
              "      <td>No</td>\n",
              "    </tr>\n",
              "    <tr>\n",
              "      <th>1046</th>\n",
              "      <td>2023-05-18 00:00:00</td>\n",
              "      <td>2023</td>\n",
              "      <td>unprovoked</td>\n",
              "      <td>USA</td>\n",
              "      <td>Florida</td>\n",
              "      <td>Marathon, Monroe County</td>\n",
              "      <td>Spearfishing</td>\n",
              "      <td>M</td>\n",
              "      <td>20</td>\n",
              "      <td>NaN</td>\n",
              "      <td>No</td>\n",
              "    </tr>\n",
              "    <tr>\n",
              "      <th>1047</th>\n",
              "      <td>2023-05-09 00:00:00</td>\n",
              "      <td>2023</td>\n",
              "      <td>provoked</td>\n",
              "      <td>CUBA</td>\n",
              "      <td>Mayabeque</td>\n",
              "      <td>Puerto Escondido</td>\n",
              "      <td>Spearfishing</td>\n",
              "      <td>M</td>\n",
              "      <td>NaN</td>\n",
              "      <td>FATAL</td>\n",
              "      <td>Yes</td>\n",
              "    </tr>\n",
              "  </tbody>\n",
              "</table>\n",
              "</div>"
            ],
            "text/plain": [
              "                     date  year        type country           state  \\\n",
              "1043  2023-05-11 00:00:00  2023  unprovoked     USA         Florida   \n",
              "1044  2023-05-11 00:00:00  2023    provoked     USA          Hawaii   \n",
              "1045  2023-05-14 00:00:00  2023  unprovoked     USA  South Carolina   \n",
              "1046  2023-05-18 00:00:00  2023  unprovoked     USA         Florida   \n",
              "1047  2023-05-09 00:00:00  2023    provoked    CUBA       Mayabeque   \n",
              "\n",
              "                              location       activity sex  age  \\\n",
              "1043     Fort Pierce, St. Lucie County        Sitting   F   13   \n",
              "1044                      Kualoa, Oahu  Kayak fishing   M  NaN   \n",
              "1045  Isle of Palms, Charleston County       Swimming   F   24   \n",
              "1046           Marathon, Monroe County   Spearfishing   M   20   \n",
              "1047                  Puerto Escondido   Spearfishing   M  NaN   \n",
              "\n",
              "                                     injury fatal  \n",
              "1043                         Multiple bites    No  \n",
              "1044  Shark bit kayak, no inury to occupant    No  \n",
              "1045            Minor inuries to right knee    No  \n",
              "1046                                    NaN    No  \n",
              "1047                                  FATAL   Yes  "
            ]
          },
          "execution_count": 15,
          "metadata": {},
          "output_type": "execute_result"
        }
      ],
      "source": [
        "# Displays that rows containing only nan values at the end of the data have also been removed.\n",
        "df.tail()"
      ]
    },
    {
      "cell_type": "code",
      "execution_count": 16,
      "metadata": {
        "colab": {
          "base_uri": "https://localhost:8080/"
        },
        "id": "bLEutn8p9W9D",
        "outputId": "c2481c82-076b-4870-811c-1d0ab2e77518"
      },
      "outputs": [
        {
          "name": "stdout",
          "output_type": "stream",
          "text": [
            "0       40\n",
            "1       40\n",
            "2       40\n",
            "3       40\n",
            "4       40\n",
            "        ..\n",
            "1043    13\n",
            "1044    40\n",
            "1045    24\n",
            "1046    20\n",
            "1047    40\n",
            "Name: age, Length: 1046, dtype: int64\n"
          ]
        },
        {
          "name": "stderr",
          "output_type": "stream",
          "text": [
            "/var/folders/mg/fz6127296bzcnc_rxkv52kvm0000gn/T/ipykernel_4449/2944003493.py:19: SettingWithCopyWarning: \n",
            "A value is trying to be set on a copy of a slice from a DataFrame.\n",
            "Try using .loc[row_indexer,col_indexer] = value instead\n",
            "\n",
            "See the caveats in the documentation: https://pandas.pydata.org/pandas-docs/stable/user_guide/indexing.html#returning-a-view-versus-a-copy\n",
            "  df['age'] = df['age'].apply(clean_age)\n",
            "/var/folders/mg/fz6127296bzcnc_rxkv52kvm0000gn/T/ipykernel_4449/2944003493.py:24: SettingWithCopyWarning: \n",
            "A value is trying to be set on a copy of a slice from a DataFrame\n",
            "\n",
            "See the caveats in the documentation: https://pandas.pydata.org/pandas-docs/stable/user_guide/indexing.html#returning-a-view-versus-a-copy\n",
            "  df['age'].fillna(mean_age, inplace=True)\n",
            "/var/folders/mg/fz6127296bzcnc_rxkv52kvm0000gn/T/ipykernel_4449/2944003493.py:27: SettingWithCopyWarning: \n",
            "A value is trying to be set on a copy of a slice from a DataFrame.\n",
            "Try using .loc[row_indexer,col_indexer] = value instead\n",
            "\n",
            "See the caveats in the documentation: https://pandas.pydata.org/pandas-docs/stable/user_guide/indexing.html#returning-a-view-versus-a-copy\n",
            "  df['age'] = df['age'].astype(int)\n"
          ]
        }
      ],
      "source": [
        "def clean_age(age_str):\n",
        "    if pd.isna(age_str):\n",
        "        return np.nan  # Preserve NaN for mean calculation later\n",
        "    age_str = str(age_str)  # Convert all input to string to handle mixed data types\n",
        "\n",
        "    # Handle multiple ages, possibly separated by '&' or commas\n",
        "    if '&' in age_str or ',' in age_str:\n",
        "        delimiters = ['&', ',']\n",
        "        for delimiter in delimiters:\n",
        "            if delimiter in age_str:\n",
        "                ages = age_str.split(delimiter)\n",
        "                valid_ages = [int(age.strip()) for age in ages if age.strip().isdigit()]\n",
        "                return sum(valid_ages) // len(valid_ages) if valid_ages else np.nan\n",
        "    # Remove non-numeric characters\n",
        "    cleaned_age = ''.join(filter(str.isdigit, age_str))\n",
        "    return int(cleaned_age) if cleaned_age else np.nan\n",
        "\n",
        "# Apply the cleaning function to the age column\n",
        "df['age'] = df['age'].apply(clean_age)\n",
        "\n",
        "mean_age = df['age'].mean()\n",
        "\n",
        "# Replace NaN values in the age column with the mean age\n",
        "df['age'].fillna(mean_age, inplace=True)\n",
        "\n",
        "# Cast age column as type 'integer'\n",
        "df['age'] = df['age'].astype(int)\n",
        "\n",
        "# Print age column to ensure functionality\n",
        "print(df['age'])"
      ]
    },
    {
      "cell_type": "code",
      "execution_count": 17,
      "metadata": {
        "id": "znPScFrhv0S6"
      },
      "outputs": [],
      "source": [
        "columns_to_fill = ['type', 'state', 'location', 'activity', 'sex', 'injury', 'fatal']\n",
        "df.loc[:, columns_to_fill] = df[columns_to_fill].fillna(\"UNKNOWN\")"
      ]
    },
    {
      "cell_type": "code",
      "execution_count": 18,
      "metadata": {
        "colab": {
          "base_uri": "https://localhost:8080/"
        },
        "id": "CA981EwcpqnH",
        "outputId": "19286ef4-7ec8-4582-f0ee-7b5f1102ed92"
      },
      "outputs": [
        {
          "name": "stderr",
          "output_type": "stream",
          "text": [
            "/var/folders/mg/fz6127296bzcnc_rxkv52kvm0000gn/T/ipykernel_4449/2593725303.py:2: SettingWithCopyWarning: \n",
            "A value is trying to be set on a copy of a slice from a DataFrame.\n",
            "Try using .loc[row_indexer,col_indexer] = value instead\n",
            "\n",
            "See the caveats in the documentation: https://pandas.pydata.org/pandas-docs/stable/user_guide/indexing.html#returning-a-view-versus-a-copy\n",
            "  df[columns_to_fill] = df[columns_to_fill].fillna(\"UNKNOWN\").apply(lambda x: x.str.strip() if x.dtype == \"object\" else x)\n"
          ]
        },
        {
          "data": {
            "text/plain": [
              "fatal\n",
              "No     968\n",
              "Yes     78\n",
              "Name: count, dtype: int64"
            ]
          },
          "execution_count": 18,
          "metadata": {},
          "output_type": "execute_result"
        }
      ],
      "source": [
        "columns_to_fill = ['type', 'state', 'location', 'activity', 'sex', 'injury', 'fatal']\n",
        "df[columns_to_fill] = df[columns_to_fill].fillna(\"UNKNOWN\").apply(lambda x: x.str.strip() if x.dtype == \"object\" else x)\n",
        "\n",
        "df['fatal'].value_counts()"
      ]
    },
    {
      "cell_type": "markdown",
      "metadata": {
        "id": "vJsVinXHkrHJ"
      },
      "source": [
        "# After All That - Now We Can Do Our EDA"
      ]
    },
    {
      "cell_type": "code",
      "execution_count": 19,
      "metadata": {
        "colab": {
          "base_uri": "https://localhost:8080/",
          "height": 175
        },
        "id": "aIu6n7dL-0q2",
        "outputId": "82d75a50-6f28-48e9-9d02-423754541b8c"
      },
      "outputs": [
        {
          "data": {
            "text/html": [
              "<div>\n",
              "<style scoped>\n",
              "    .dataframe tbody tr th:only-of-type {\n",
              "        vertical-align: middle;\n",
              "    }\n",
              "\n",
              "    .dataframe tbody tr th {\n",
              "        vertical-align: top;\n",
              "    }\n",
              "\n",
              "    .dataframe thead th {\n",
              "        text-align: right;\n",
              "    }\n",
              "</style>\n",
              "<table border=\"1\" class=\"dataframe\">\n",
              "  <thead>\n",
              "    <tr style=\"text-align: right;\">\n",
              "      <th></th>\n",
              "      <th>date</th>\n",
              "      <th>type</th>\n",
              "      <th>country</th>\n",
              "      <th>state</th>\n",
              "      <th>location</th>\n",
              "      <th>activity</th>\n",
              "      <th>sex</th>\n",
              "      <th>injury</th>\n",
              "      <th>fatal</th>\n",
              "    </tr>\n",
              "  </thead>\n",
              "  <tbody>\n",
              "    <tr>\n",
              "      <th>count</th>\n",
              "      <td>1046</td>\n",
              "      <td>1046</td>\n",
              "      <td>1046</td>\n",
              "      <td>1046</td>\n",
              "      <td>1046</td>\n",
              "      <td>1046</td>\n",
              "      <td>1046</td>\n",
              "      <td>1046</td>\n",
              "      <td>1046</td>\n",
              "    </tr>\n",
              "    <tr>\n",
              "      <th>unique</th>\n",
              "      <td>821</td>\n",
              "      <td>6</td>\n",
              "      <td>64</td>\n",
              "      <td>189</td>\n",
              "      <td>759</td>\n",
              "      <td>162</td>\n",
              "      <td>3</td>\n",
              "      <td>735</td>\n",
              "      <td>2</td>\n",
              "    </tr>\n",
              "    <tr>\n",
              "      <th>top</th>\n",
              "      <td>2002-06-13 00:00:00</td>\n",
              "      <td>unprovoked</td>\n",
              "      <td>USA</td>\n",
              "      <td>Florida</td>\n",
              "      <td>New Smyrna Beach, Volusia County</td>\n",
              "      <td>Surfing</td>\n",
              "      <td>M</td>\n",
              "      <td>FATAL</td>\n",
              "      <td>No</td>\n",
              "    </tr>\n",
              "    <tr>\n",
              "      <th>freq</th>\n",
              "      <td>4</td>\n",
              "      <td>830</td>\n",
              "      <td>622</td>\n",
              "      <td>277</td>\n",
              "      <td>67</td>\n",
              "      <td>259</td>\n",
              "      <td>763</td>\n",
              "      <td>62</td>\n",
              "      <td>968</td>\n",
              "    </tr>\n",
              "  </tbody>\n",
              "</table>\n",
              "</div>"
            ],
            "text/plain": [
              "                       date        type country    state  \\\n",
              "count                  1046        1046    1046     1046   \n",
              "unique                  821           6      64      189   \n",
              "top     2002-06-13 00:00:00  unprovoked     USA  Florida   \n",
              "freq                      4         830     622      277   \n",
              "\n",
              "                                location activity   sex injury fatal  \n",
              "count                               1046     1046  1046   1046  1046  \n",
              "unique                               759      162     3    735     2  \n",
              "top     New Smyrna Beach, Volusia County  Surfing     M  FATAL    No  \n",
              "freq                                  67      259   763     62   968  "
            ]
          },
          "execution_count": 19,
          "metadata": {},
          "output_type": "execute_result"
        }
      ],
      "source": [
        "df.describe(include = \"object\")\n",
        "\n",
        "# Top row indicates most frequent values in each row, and tells us:\n",
        "# Most shark attacks were unprovoked\n",
        "# Most shark attacks occurred in the United States, specifically in Florida\n",
        "# The most frequent activity immediately prior to a shark attack was surfing\n",
        "# More men than women were attacked by sharks\n",
        "# Most attacks are not fatal"
      ]
    },
    {
      "cell_type": "code",
      "execution_count": 20,
      "metadata": {
        "colab": {
          "base_uri": "https://localhost:8080/"
        },
        "id": "y1eo4NnFk4vw",
        "outputId": "dae1629e-2883-4282-c3d0-6948ba192c8d"
      },
      "outputs": [
        {
          "data": {
            "text/plain": [
              "country\n",
              "USA             622\n",
              "AUSTRALIA       117\n",
              "SOUTH AFRICA     46\n",
              "BAHAMAS          46\n",
              "BRAZIL           24\n",
              "               ... \n",
              "BELIZE            1\n",
              "VANUATU           1\n",
              "LIBERIA           1\n",
              "TONGA             1\n",
              "CUBA              1\n",
              "Name: count, Length: 64, dtype: int64"
            ]
          },
          "execution_count": 20,
          "metadata": {},
          "output_type": "execute_result"
        }
      ],
      "source": [
        "df['country'].value_counts()\n",
        "# This shows that the US by far experiences the most shark attacks."
      ]
    },
    {
      "cell_type": "code",
      "execution_count": 21,
      "metadata": {
        "colab": {
          "base_uri": "https://localhost:8080/",
          "height": 466
        },
        "id": "6T1-0PjPoLwa",
        "outputId": "5c5701ab-47b3-4f55-b8a2-f7b93b96267b"
      },
      "outputs": [
        {
          "data": {
            "text/plain": [
              "<Axes: xlabel='fatal', ylabel='count'>"
            ]
          },
          "execution_count": 21,
          "metadata": {},
          "output_type": "execute_result"
        },
        {
          "data": {
            "image/png": "[encoded data removed]",
            "text/plain": [
              "<Figure size 640x480 with 1 Axes>"
            ]
          },
          "metadata": {},
          "output_type": "display_data"
        }
      ],
      "source": [
        "sns.countplot(x = \"fatal\", data = df)"
      ]
    },
    {
      "cell_type": "code",
      "execution_count": 22,
      "metadata": {
        "colab": {
          "base_uri": "https://localhost:8080/",
          "height": 466
        },
        "id": "Gt0xrkBBogh5",
        "outputId": "e958be6d-46e0-48c5-c2a7-7c55bc7d44a7"
      },
      "outputs": [
        {
          "data": {
            "text/plain": [
              "<Axes: xlabel='type', ylabel='count'>"
            ]
          },
          "execution_count": 22,
          "metadata": {},
          "output_type": "execute_result"
        },
        {
          "data": {
            "image/png": "[encoded data removed]",
            "text/plain": [
              "<Figure size 640x480 with 1 Axes>"
            ]
          },
          "metadata": {},
          "output_type": "display_data"
        }
      ],
      "source": [
        "sns.countplot(x='type', data=df)"
      ]
    },
    {
      "cell_type": "code",
      "execution_count": 23,
      "metadata": {
        "colab": {
          "base_uri": "https://localhost:8080/",
          "height": 466
        },
        "id": "PZPz16wy1jFi",
        "outputId": "ea943791-687c-4d45-f27e-e03c23dd59e9"
      },
      "outputs": [
        {
          "name": "stderr",
          "output_type": "stream",
          "text": [
            "/opt/anaconda3/lib/python3.11/site-packages/seaborn/_oldcore.py:1119: FutureWarning: use_inf_as_na option is deprecated and will be removed in a future version. Convert inf values to NaN before operating instead.\n",
            "  with pd.option_context('mode.use_inf_as_na', True):\n"
          ]
        },
        {
          "data": {
            "text/plain": [
              "<Axes: xlabel='year', ylabel='Count'>"
            ]
          },
          "execution_count": 23,
          "metadata": {},
          "output_type": "execute_result"
        },
        {
          "data": {
            "image/png": "[encoded data removed]",
            "text/plain": [
              "<Figure size 640x480 with 1 Axes>"
            ]
          },
          "metadata": {},
          "output_type": "display_data"
        }
      ],
      "source": [
        "sns.histplot(df['year'], bins=100)"
      ]
    },
    {
      "cell_type": "code",
      "execution_count": 24,
      "metadata": {
        "colab": {
          "base_uri": "https://localhost:8080/",
          "height": 765
        },
        "id": "bCzdr_CCA64B",
        "outputId": "fac2ebd3-1bae-4cc4-c8bb-7334594a10e5"
      },
      "outputs": [
        {
          "ename": "NameError",
          "evalue": "name 'top_5_countries_fatalities' is not defined",
          "output_type": "error",
          "traceback": [
            "\u001b[0;31m---------------------------------------------------------------------------\u001b[0m",
            "\u001b[0;31mNameError\u001b[0m                                 Traceback (most recent call last)",
            "Cell \u001b[0;32mIn[24], line 6\u001b[0m\n\u001b[1;32m      1\u001b[0m \u001b[38;5;28;01mimport\u001b[39;00m \u001b[38;5;21;01mmatplotlib\u001b[39;00m\u001b[38;5;21;01m.\u001b[39;00m\u001b[38;5;21;01mpyplot\u001b[39;00m \u001b[38;5;28;01mas\u001b[39;00m \u001b[38;5;21;01mplt\u001b[39;00m\n\u001b[1;32m      3\u001b[0m \u001b[38;5;66;03m# Assuming df is your DataFrame containing shark attack data with 'Country' and 'Fatal' columns\u001b[39;00m\n\u001b[1;32m      4\u001b[0m \n\u001b[1;32m      5\u001b[0m \u001b[38;5;66;03m# Step 1: Filter the DataFrame to include only the top 5 countries with the highest number of fatalities\u001b[39;00m\n\u001b[0;32m----> 6\u001b[0m top_5_countries \u001b[38;5;241m=\u001b[39m df[df[\u001b[38;5;124m'\u001b[39m\u001b[38;5;124mcountry\u001b[39m\u001b[38;5;124m'\u001b[39m]\u001b[38;5;241m.\u001b[39misin(top_5_countries_fatalities\u001b[38;5;241m.\u001b[39mindex)]\n\u001b[1;32m      8\u001b[0m \u001b[38;5;66;03m# Step 2: Group the filtered DataFrame by 'Country' and count the number of fatalities in each country\u001b[39;00m\n\u001b[1;32m      9\u001b[0m top_5_countries_fatalities_count \u001b[38;5;241m=\u001b[39m top_5_countries\u001b[38;5;241m.\u001b[39mgroupby(\u001b[38;5;124m'\u001b[39m\u001b[38;5;124mcountry\u001b[39m\u001b[38;5;124m'\u001b[39m)[\u001b[38;5;124m'\u001b[39m\u001b[38;5;124mfatal\u001b[39m\u001b[38;5;124m'\u001b[39m]\u001b[38;5;241m.\u001b[39mcount()\n",
            "\u001b[0;31mNameError\u001b[0m: name 'top_5_countries_fatalities' is not defined"
          ]
        }
      ],
      "source": [
        "import matplotlib.pyplot as plt\n",
        "\n",
        "# Assuming df is your DataFrame containing shark attack data with 'Country' and 'Fatal' columns\n",
        "\n",
        "# Step 1: Filter the DataFrame to include only the top 5 countries with the highest number of fatalities\n",
        "top_5_countries = df[df['country'].isin(top_5_countries_fatalities.index)]\n",
        "\n",
        "# Step 2: Group the filtered DataFrame by 'Country' and count the number of fatalities in each country\n",
        "top_5_countries_fatalities_count = top_5_countries.groupby('country')['fatal'].count()\n",
        "\n",
        "# Step 3: Calculate the total number of fatalities in the rest of the world\n",
        "rest_of_world_fatalities_count = df[~df['country'].isin(top_5_countries_fatalities.index)]['fatal'].count()\n",
        "\n",
        "# Step 4: Plot the data using Seaborn\n",
        "plt.figure(figsize=(10, 6))\n",
        "sns.barplot(x=top_5_countries_fatalities_count.index, y=top_5_countries_fatalities_count.values, palette='Set1')\n",
        "plt.bar('Rest of World Combined', rest_of_world_fatalities_count, color='gray')\n",
        "plt.title('Number of Fatalities in Top 5 Countries vs. Rest of World Combined')\n",
        "plt.xlabel('country')\n",
        "plt.ylabel('Number of Fatalities')\n",
        "plt.xticks(rotation=45)\n",
        "plt.show()"
      ]
    },
    {
      "cell_type": "code",
      "execution_count": null,
      "metadata": {
        "id": "xiGaTsBfBCn9"
      },
      "outputs": [],
      "source": []
    }
  ],
  "metadata": {
    "colab": {
      "provenance": []
    },
    "kernelspec": {
      "display_name": "Python 3",
      "name": "python3"
    },
    "language_info": {
      "codemirror_mode": {
        "name": "ipython",
        "version": 3
      },
      "file_extension": ".py",
      "mimetype": "text/x-python",
      "name": "python",
      "nbconvert_exporter": "python",
      "pygments_lexer": "ipython3",
      "version": "3.11.7"
    }
  },
  "nbformat": 4,
  "nbformat_minor": 0
}
